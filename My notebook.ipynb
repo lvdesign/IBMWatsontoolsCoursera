{
    "cells": [
        {
            "cell_type": "markdown",
            "metadata": {
                "collapsed": true
            },
            "source": "Test  csv loaded"
        },
        {
            "cell_type": "markdown",
            "metadata": {},
            "source": "# My Jupyter Notebook on IBM Watson Studio"
        },
        {
            "cell_type": "markdown",
            "metadata": {},
            "source": "**Laurent Peterson**\n\n100% webdesigner\n"
        },
        {
            "cell_type": "markdown",
            "metadata": {},
            "source": "*I am interested in data science because ...\nI like telling stories with data and using data to help bring that data to life.\nData scientist can turn seemingly meaningless data into a recommendation to help a company improve its product, \nservices, or experiences. This can help a business grow or get more clients. \nIt's great.*"
        },
        {
            "cell_type": "markdown",
            "metadata": {},
            "source": "### Some operations for statistics with python"
        },
        {
            "cell_type": "code",
            "execution_count": 1,
            "metadata": {
                "scrolled": true
            },
            "outputs": [
                {
                    "name": "stdout",
                    "output_type": "stream",
                    "text": "produit toto: 108\nproduit toto: 161740800\nmoyenne toto:  13.5\nmediane toto: 4.5\nmode ('Mode :', 45, 'nb de fois :', 1)\n"
                }
            ],
            "source": "toto=[45,5,8,8,8,9,12,13]\n\n\n\ndef somme(valeur):\n    '''\n    retrouve la somme de la serie\n    '''\n    masomme = 0\n    for i in valeur:\n        masomme += i\n    return masomme\n    \nprint('produit toto:', somme(toto))\n\n\ndef produit(valeur):\n    '''\n    retrouve la produit de la serie\n    '''\n    maproduit =1\n    # 2*1\n    for i in valeur:\n        maproduit *=i\n    return maproduit\n\nprint('produit toto:', produit(toto))\n\n\n\ndef moyenne(valeur):\n    '''\n    retrouve la valeur moyenne de la serie\n    '''\n    return somme(valeur)/len(valeur)\n\nprint('moyenne toto: ',moyenne(toto))\n\n\n\ndef mediane(valeur):\n    '''\n    retrouve la valeur au milieu de la serie : la m\u00e9diane\n    '''\n    valeur = sorted(valeur)\n    valeur_len = float(len(valeur))\n  \n    # si moins de deux\n    if valeur_len < 2:\n        return None\n    # si len est pair    \n    if valeur_len % 2 == 0:        \n        indice = float( ( (valeur_len/2)+((valeur_len/2)+1) )/2 )\n        #print('indice Pair :', indice)\n        return indice\n    # si len est impair\n    else:    \n        indice = int( ((valeur_len)+1)/2)\n        #print('indice impPair :', indice)\n        return valeur[valeur[indice]]\n\nprint('mediane toto:', mediane(toto) )\n\n\n\ndef mode(valeur):\n    '''\n    retrouve la valeur la plus frequente dans la serie\n    \n    compter avec un dictionnaire\n    theplus: le plus dans la serie\n    largest: le nombre de fois\n    \n    mode(theplus, largest)    \n    '''\n    counts = dict()\n\n    for val in valeur:\n        counts[val] = counts.get(val,0)+1\n        #print('counts :::', counts)     \n    \n    # comptage et rangement\n    largest=-1\n    theplus= None\n    for k,v in counts.items():\n        if v > largest:\n            largest = v\n            theplus = k\n        \n        #return theplus, largets       \n        return 'Mode :', theplus , 'nb de fois :',largest\n\nprint('mode', mode(toto))\n"
        },
        {
            "cell_type": "code",
            "execution_count": 2,
            "metadata": {},
            "outputs": [
                {
                    "data": {
                        "text/plain": "2"
                    },
                    "execution_count": 2,
                    "metadata": {},
                    "output_type": "execute_result"
                }
            ],
            "source": "1+1"
        },
        {
            "cell_type": "markdown",
            "metadata": {},
            "source": "---\n\nUsing Markdown or HTML, this cell must include at least 3 of the following: \n\n- toto, \n- titi, \n- tata, \n    \n\n***\n\n[I'm an inline-style link to IBM ](https://www.ibm.com/fr-fr/watson)\n\n\n---\n\n```python\n\nCode and Syntax Highlighting\n\ntoto = [8,8,9,12,13]\ndef somme(valeur):\n    '''\n    retrouve la somme de la serie\n    '''\n    masomme = 0\n    for i in valeur:\n        masomme += i\n    return masomme\n    \nprint('produit toto:', somme(toto))\n```\n\n***"
        },
        {
            "cell_type": "code",
            "execution_count": null,
            "metadata": {},
            "outputs": [],
            "source": ""
        }
    ],
    "metadata": {
        "kernelspec": {
            "display_name": "Python 3.6",
            "language": "python",
            "name": "python3"
        },
        "language_info": {
            "codemirror_mode": {
                "name": "ipython",
                "version": 3
            },
            "file_extension": ".py",
            "mimetype": "text/x-python",
            "name": "python",
            "nbconvert_exporter": "python",
            "pygments_lexer": "ipython3",
            "version": "3.6.9"
        }
    },
    "nbformat": 4,
    "nbformat_minor": 1
}