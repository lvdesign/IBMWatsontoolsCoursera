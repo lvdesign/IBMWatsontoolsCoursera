{
    "cells": [
        {
            "cell_type": "markdown",
            "metadata": {
                "collapsed": true
            },
            "source": "Test  csv loaded"
        },
        {
            "cell_type": "code",
            "execution_count": 2,
            "metadata": {},
            "outputs": [
                {
                    "data": {
                        "text/html": "<div>\n<style scoped>\n    .dataframe tbody tr th:only-of-type {\n        vertical-align: middle;\n    }\n\n    .dataframe tbody tr th {\n        vertical-align: top;\n    }\n\n    .dataframe thead th {\n        text-align: right;\n    }\n</style>\n<table border=\"1\" class=\"dataframe\">\n  <thead>\n    <tr style=\"text-align: right;\">\n      <th></th>\n      <th>Capitale</th>\n      <th>Pays/Territoire</th>\n      <th>Population</th>\n      <th>Ann\u00e9e</th>\n    </tr>\n  </thead>\n  <tbody>\n    <tr>\n      <th>0</th>\n      <td>P\u00e9kin</td>\n      <td>Chine</td>\n      <td>21\u00a0710\u00a0000[1]</td>\n      <td>2017</td>\n    </tr>\n    <tr>\n      <th>1</th>\n      <td>Tokyo</td>\n      <td>Japon</td>\n      <td>13\u00a0754\u00a0059[2]</td>\n      <td>2016</td>\n    </tr>\n    <tr>\n      <th>2</th>\n      <td>Kinshasa</td>\n      <td>R\u00e9publique D\u00e9mocratique du Congo</td>\n      <td>12\u00a0071\u00a0000</td>\n      <td>2016</td>\n    </tr>\n    <tr>\n      <th>3</th>\n      <td>Moscou</td>\n      <td>Russie</td>\n      <td>11\u00a0541\u00a0000[3]</td>\n      <td>2011</td>\n    </tr>\n    <tr>\n      <th>4</th>\n      <td>S\u00e9oul</td>\n      <td>Cor\u00e9e du Sud</td>\n      <td>10\u00a0528\u00a0774[4]</td>\n      <td>2011</td>\n    </tr>\n  </tbody>\n</table>\n</div>",
                        "text/plain": "   Capitale                   Pays/Territoire     Population Ann\u00e9e\n0     P\u00e9kin                             Chine  21\u00a0710\u00a0000[1]  2017\n1     Tokyo                             Japon  13\u00a0754\u00a0059[2]  2016\n2  Kinshasa  R\u00e9publique D\u00e9mocratique du Congo     12\u00a0071\u00a0000  2016\n3    Moscou                            Russie  11\u00a0541\u00a0000[3]  2011\n4     S\u00e9oul                      Cor\u00e9e du Sud  10\u00a0528\u00a0774[4]  2011"
                    },
                    "execution_count": 2,
                    "metadata": {},
                    "output_type": "execute_result"
                }
            ],
            "source": "\nimport types\nimport pandas as pd\nfrom botocore.client import Config\nimport ibm_boto3\n\n\n"
        },
        {
            "cell_type": "code",
            "execution_count": null,
            "metadata": {},
            "outputs": [],
            "source": ""
        },
        {
            "cell_type": "code",
            "execution_count": null,
            "metadata": {},
            "outputs": [],
            "source": ""
        }
    ],
    "metadata": {
        "kernelspec": {
            "display_name": "Python 3.6",
            "language": "python",
            "name": "python3"
        },
        "language_info": {
            "codemirror_mode": {
                "name": "ipython",
                "version": 3
            },
            "file_extension": ".py",
            "mimetype": "text/x-python",
            "name": "python",
            "nbconvert_exporter": "python",
            "pygments_lexer": "ipython3",
            "version": "3.6.9"
        }
    },
    "nbformat": 4,
    "nbformat_minor": 1
}